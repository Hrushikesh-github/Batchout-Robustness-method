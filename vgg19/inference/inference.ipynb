{
 "cells": [
  {
   "cell_type": "code",
   "execution_count": 1,
   "id": "57100ba3",
   "metadata": {},
   "outputs": [
    {
     "name": "stdout",
     "output_type": "stream",
     "text": [
      "cuda\n",
      "Files already downloaded and verified\n",
      "Files already downloaded and verified\n"
     ]
    }
   ],
   "source": [
    "import torch\n",
    "import torch.nn as nn\n",
    "import torch.optim as optim\n",
    "from torchvision import transforms, datasets\n",
    "from torch.utils.data import DataLoader\n",
    "import numpy as np\n",
    "import foolbox as fb\n",
    "import matplotlib.pyplot as plt\n",
    "from vgg_inference_model import VGG\n",
    "import sys\n",
    "sys.path.append(\"/home/reshikesh/hrushikesh/robust/vgg19/standard\")\n",
    "from vgg_change import VGG as AGG\n",
    "from PIL import Image\n",
    "\n",
    "batch_size = 32\n",
    "device = torch.device(\"cuda\" if torch.cuda.is_available() else \"cpu\")\n",
    "#device = 'cpu'\n",
    "print(device)\n",
    "\n",
    "cifar_train = datasets.CIFAR10(\"~/data\", train=True, download=True, transform=transforms.ToTensor())\n",
    "cifar_test = datasets.CIFAR10(\"~/data\", train=False, download=True, transform=transforms.ToTensor())\n",
    "\n",
    "train_loader = DataLoader(cifar_train, batch_size = batch_size, shuffle=False)\n",
    "test_loader = DataLoader(cifar_test, batch_size = batch_size, shuffle=True)\n",
    "\n",
    "\n",
    "classes = ['aeroplane', 'automobile', 'bird', 'cat', 'deer', 'dog', 'frog', 'horse', 'ship', 'truck']\n",
    "\n",
    "# Load the inference model\n",
    "inf_model = VGG(0.3).to(device)\n",
    "inf_model.load_state_dict(torch.load(\"/home/reshikesh/hrushikesh/robust/vgg19/batchout_many/n_3/model_reg_121.pt\"))\n",
    "inf_model.eval()\n",
    "\n",
    "# Create the foolbox model based on standard vgg. We use this to create adversarial images\n",
    "preprocessing = dict(mean=[0.4914, 0.4822, 0.4465], std=[0.2470, 0.2435, 0.2616], axis=-3)\n",
    "\n",
    "model = AGG()\n",
    "model.eval()\n",
    "model.load_state_dict(torch.load(\"/home/reshikesh/hrushikesh/robust/vgg19/batchout_many/n_3/model_reg_121.pt\"))\n",
    "fmodel = fb.PyTorchModel(model, bounds=(0,1), preprocessing=preprocessing)\n",
    "\n",
    "# So there are two models now: Inference model which accepts two images and performs batchout and\n",
    "# Foolbox model that will be used to get adversarial images"
   ]
  },
  {
   "cell_type": "code",
   "execution_count": 2,
   "id": "19d2c264",
   "metadata": {},
   "outputs": [
    {
     "name": "stdout",
     "output_type": "stream",
     "text": [
      "Predictions of the original image: \n",
      " tensor([[ 0.2506, -0.3000,  0.8366,  0.0407,  0.0416, -0.2429,  0.0585, -0.6466,\n",
      "          0.1166, -0.3031]], device='cuda:0', grad_fn=<AddmmBackward>)\n",
      "The image is predicted as 21.68 % bird\n"
     ]
    },
    {
     "data": {
      "image/png": "[encoded data removed]",
      "text/plain": [
       "<Figure size 432x288 with 1 Axes>"
      ]
     },
     "metadata": {
      "needs_background": "light"
     },
     "output_type": "display_data"
    }
   ],
   "source": [
    "# Choose some random image from test set \n",
    "ori_img = Image.open(\"/home/reshikesh/cifar10_fastai/test/bird/0601.png\")\n",
    "ori_img_class = torch.tensor([2]) # Airplane class is 0\n",
    "ori_img = transforms.ToTensor()(ori_img)[None, :, :, :]\n",
    "plt.imshow(ori_img[0].numpy().transpose(1,2,0))\n",
    "\n",
    "ori_img = ori_img.to(device)\n",
    "ori_img_class = ori_img_class.to(device)\n",
    "\n",
    "yp = inf_model(ori_img)\n",
    "softmax_pred = float(nn.Softmax(dim=1)(yp).max().cpu().detach().numpy() * 100)\n",
    "print(\"Predictions of the original image: \\n\", yp)\n",
    "print(\"The image is predicted as {:.2f} % {}\".format(softmax_pred, classes[int(yp.argmax())]))"
   ]
  },
  {
   "cell_type": "code",
   "execution_count": 3,
   "id": "d3cbe3b5",
   "metadata": {},
   "outputs": [
    {
     "name": "stdout",
     "output_type": "stream",
     "text": [
      "tensor([7, 2, 8, 1, 9, 0, 9, 2, 8, 0, 0, 5, 6, 7, 6, 8, 7, 5, 3, 4, 5, 4, 6, 8,\n",
      "        6, 7, 8, 2, 7, 3, 1, 4])\n",
      "Error rate is:  50.0\n"
     ]
    }
   ],
   "source": [
    "img = ori_img.squeeze()\n",
    "total_err = 0.\n",
    "X,y = next(iter(test_loader))\n",
    "print(y)\n",
    "for x in X:\n",
    "    x = x.to(device)    \n",
    "    images = torch.stack((img, x))\n",
    "    yp = inf_model(images)\n",
    "    #print(yp[0])\n",
    "    total_err += (yp[0].max(dim=0)[1] != ori_img_class).sum().item()\n",
    "    #print(classes[int(yp[1].argmax())])\n",
    "print(\"Error rate is: \", total_err * 100 / 32)"
   ]
  },
  {
   "cell_type": "code",
   "execution_count": 5,
   "id": "73be8c57",
   "metadata": {},
   "outputs": [
    {
     "name": "stdout",
     "output_type": "stream",
     "text": [
      "[tensor([[[[0.3922, 0.4000, 0.4157,  ..., 0.3725, 0.3608, 0.3490],\n",
      "          [0.3412, 0.3412, 0.3490,  ..., 0.3176, 0.2980, 0.2863],\n",
      "          [0.3255, 0.3804, 0.3804,  ..., 0.3765, 0.2941, 0.3412],\n",
      "          ...,\n",
      "          [0.2078, 0.2706, 0.2314,  ..., 0.3804, 0.3137, 0.3020],\n",
      "          [0.2275, 0.2431, 0.2588,  ..., 0.3765, 0.3608, 0.3490],\n",
      "          [0.2902, 0.2431, 0.3255,  ..., 0.3020, 0.3490, 0.3255]],\n",
      "\n",
      "         [[0.6000, 0.6078, 0.6196,  ..., 0.6078, 0.5922, 0.5216],\n",
      "          [0.5529, 0.5529, 0.5608,  ..., 0.5529, 0.5373, 0.5255],\n",
      "          [0.6039, 0.5961, 0.5961,  ..., 0.6118, 0.5255, 0.5765],\n",
      "          ...,\n",
      "          [0.4980, 0.4980, 0.4588,  ..., 0.5882, 0.5216, 0.5098],\n",
      "          [0.5216, 0.5333, 0.5490,  ..., 0.5843, 0.5686, 0.4941],\n",
      "          [0.5216, 0.5333, 0.5529,  ..., 0.5176, 0.4980, 0.4784]],\n",
      "\n",
      "         [[0.3333, 0.3451, 0.3569,  ..., 0.2627, 0.3216, 0.2510],\n",
      "          [0.2824, 0.2863, 0.2902,  ..., 0.3294, 0.2588, 0.2510],\n",
      "          [0.3333, 0.3294, 0.3294,  ..., 0.3255, 0.2510, 0.3059],\n",
      "          ...,\n",
      "          [0.2588, 0.2627, 0.2824,  ..., 0.3098, 0.2510, 0.2471],\n",
      "          [0.2784, 0.2941, 0.2471,  ..., 0.3059, 0.3020, 0.2275],\n",
      "          [0.2784, 0.2314, 0.3137,  ..., 0.3020, 0.2275, 0.2118]]]],\n",
      "       device='cuda:0')]\n"
     ]
    },
    {
     "ename": "IndexError",
     "evalue": "list index out of range",
     "output_type": "error",
     "traceback": [
      "\u001b[0;31m---------------------------------------------------------------------------\u001b[0m",
      "\u001b[0;31mIndexError\u001b[0m                                Traceback (most recent call last)",
      "\u001b[0;32m<ipython-input-5-291af9720990>\u001b[0m in \u001b[0;36m<module>\u001b[0;34m\u001b[0m\n\u001b[1;32m      3\u001b[0m \u001b[0mraw\u001b[0m\u001b[0;34m,\u001b[0m \u001b[0mclipped\u001b[0m\u001b[0;34m,\u001b[0m \u001b[0mis_adv\u001b[0m \u001b[0;34m=\u001b[0m \u001b[0mattack\u001b[0m\u001b[0;34m(\u001b[0m\u001b[0mfmodel\u001b[0m\u001b[0;34m,\u001b[0m \u001b[0mori_img\u001b[0m\u001b[0;34m,\u001b[0m \u001b[0mori_img_class\u001b[0m\u001b[0;34m,\u001b[0m \u001b[0mepsilons\u001b[0m\u001b[0;34m=\u001b[0m\u001b[0;34m[\u001b[0m\u001b[0;36m8\u001b[0m\u001b[0;34m/\u001b[0m\u001b[0;36m255\u001b[0m\u001b[0;34m]\u001b[0m\u001b[0;34m)\u001b[0m\u001b[0;34m\u001b[0m\u001b[0;34m\u001b[0m\u001b[0m\n\u001b[1;32m      4\u001b[0m \u001b[0mprint\u001b[0m\u001b[0;34m(\u001b[0m\u001b[0mclipped\u001b[0m\u001b[0;34m)\u001b[0m\u001b[0;34m\u001b[0m\u001b[0;34m\u001b[0m\u001b[0m\n\u001b[0;32m----> 5\u001b[0;31m \u001b[0mfgsm_img\u001b[0m \u001b[0;34m=\u001b[0m \u001b[0mclipped\u001b[0m\u001b[0;34m[\u001b[0m\u001b[0;36m1\u001b[0m\u001b[0;34m]\u001b[0m\u001b[0;34m\u001b[0m\u001b[0;34m\u001b[0m\u001b[0m\n\u001b[0m\u001b[1;32m      6\u001b[0m \u001b[0;34m\u001b[0m\u001b[0m\n\u001b[1;32m      7\u001b[0m \u001b[0mprint\u001b[0m\u001b[0;34m(\u001b[0m\u001b[0;34m\"Whether adversarial image is formed, {}\"\u001b[0m\u001b[0;34m.\u001b[0m\u001b[0mformat\u001b[0m\u001b[0;34m(\u001b[0m\u001b[0mstr\u001b[0m\u001b[0;34m(\u001b[0m\u001b[0mis_adv\u001b[0m\u001b[0;34m.\u001b[0m\u001b[0mcpu\u001b[0m\u001b[0;34m(\u001b[0m\u001b[0;34m)\u001b[0m\u001b[0;34m.\u001b[0m\u001b[0mnumpy\u001b[0m\u001b[0;34m(\u001b[0m\u001b[0;34m)\u001b[0m\u001b[0;34m)\u001b[0m\u001b[0;34m)\u001b[0m\u001b[0;34m)\u001b[0m\u001b[0;34m\u001b[0m\u001b[0;34m\u001b[0m\u001b[0m\n",
      "\u001b[0;31mIndexError\u001b[0m: list index out of range"
     ]
    }
   ],
   "source": [
    "# Perform the same with FGSM adversarial image\n",
    "attack = fb.attacks.FGSM()\n",
    "raw, clipped, is_adv = attack(fmodel, ori_img, ori_img_class, epsilons=[8/255])\n",
    "fgsm_img = clipped[0]\n",
    "\n",
    "print(\"Whether adversarial image is formed, {}\".format(str(is_adv.cpu().numpy())))\n",
    "\n",
    "yp = inf_model(fgsm_img)\n",
    "softmax_pred = float(nn.Softmax(dim=1)(yp).max().cpu().detach().numpy() * 100)\n",
    "print(\"Predictions of the original image: \\n\", yp)\n",
    "print(\"The image is {:.2f} % {}\".format(softmax_pred, classes[int(yp.argmax())]))"
   ]
  },
  {
   "cell_type": "code",
   "execution_count": 61,
   "id": "884fdda5",
   "metadata": {},
   "outputs": [
    {
     "name": "stdout",
     "output_type": "stream",
     "text": [
      "tensor([0, 9, 2, 9, 0, 2, 8, 1, 2, 2, 8, 8, 1, 6, 2, 2, 6, 1, 1, 7, 5, 3, 7, 7,\n",
      "        2, 4, 6, 1, 7, 8, 9, 7])\n",
      "\n",
      " Error rate is:  53.125\n",
      "['aeroplane', 'truck', 'bird', 'truck', 'aeroplane', 'bird', 'ship', 'automobile', 'bird', 'bird', 'ship', 'ship', 'automobile', 'frog', 'bird', 'bird', 'bird', 'automobile', 'automobile', 'horse', 'dog', 'cat', 'horse', 'horse', 'deer', 'deer', 'frog', 'automobile', 'horse', 'ship', 'truck', 'horse']\n"
     ]
    }
   ],
   "source": [
    "img = fgsm_img.squeeze()\n",
    "total_err = 0.\n",
    "predictions = []\n",
    "X,y = next(iter(test_loader))\n",
    "print(y)\n",
    "for x in X:\n",
    "    x = x.to(device)    \n",
    "    images = torch.stack((img, x))\n",
    "    yp = inf_model(images)\n",
    "    total_err += (yp[0].max(dim=0)[1] != ori_img_class).sum().item()\n",
    "    predictions.append(classes[int(yp[1].argmax())])\n",
    "print(\"\\n Error rate is: \", total_err * 100 / 32)\n",
    "print(predictions)"
   ]
  },
  {
   "cell_type": "code",
   "execution_count": 62,
   "id": "a0bb42dd",
   "metadata": {},
   "outputs": [
    {
     "name": "stdout",
     "output_type": "stream",
     "text": [
      "Whether adversarial image is formed, [[ True]]\n",
      "Predictions of the original image: \n",
      " tensor([[ 0.4872,  0.1219, -0.0463,  0.1594, -0.5744, -0.3071, -0.2074,  0.1000,\n",
      "          0.2278, -0.1548]], device='cuda:0', grad_fn=<AddmmBackward>)\n",
      "The image is 15.94 % aeroplane\n",
      "tensor([6, 9, 9, 4, 1, 1, 2, 7, 8, 3, 4, 7, 7, 2, 9, 9, 9, 3, 2, 6, 4, 3, 6, 6,\n",
      "        2, 6, 3, 5, 4, 0, 0, 9])\n",
      "\n",
      " Error rate is:  62.5\n",
      "['bird', 'truck', 'truck', 'deer', 'automobile', 'automobile', 'bird', 'horse', 'ship', 'cat', 'deer', 'horse', 'horse', 'bird', 'truck', 'truck', 'truck', 'cat', 'bird', 'frog', 'deer', 'cat', 'frog', 'frog', 'bird', 'frog', 'cat', 'dog', 'deer', 'aeroplane', 'aeroplane', 'truck']\n"
     ]
    }
   ],
   "source": [
    "# Perform the same with FGSM adversarial image\n",
    "attack = fb.attacks.PGD()\n",
    "raw, clipped, is_adv = attack(fmodel, ori_img, ori_img_class, epsilons=[12/255])\n",
    "fgsm_img = clipped[0]\n",
    "\n",
    "print(\"Whether adversarial image is formed, {}\".format(str(is_adv.cpu().numpy())))\n",
    "\n",
    "yp = inf_model(fgsm_img)\n",
    "softmax_pred = float(nn.Softmax(dim=1)(yp).max().cpu().detach().numpy() * 100)\n",
    "print(\"Predictions of the original image: \\n\", yp)\n",
    "print(\"The image is {:.2f} % {}\".format(softmax_pred, classes[int(yp.argmax())]))\n",
    "\n",
    "img = fgsm_img.squeeze()\n",
    "total_err = 0.\n",
    "predictions = []\n",
    "X,y = next(iter(train_loader))\n",
    "print(y)\n",
    "for x in X:\n",
    "    x = x.to(device)    \n",
    "    images = torch.stack((img, x))\n",
    "    yp = inf_model(images)\n",
    "    total_err += (yp[0].max(dim=0)[0] != ori_img_class).sum().item()\n",
    "    predictions.append(classes[int(yp[0].argmax())])\n",
    "print(\"\\n Error rate is: \", total_err * 100 / 32)\n",
    "print(predictions)"
   ]
  },
  {
   "cell_type": "code",
   "execution_count": null,
   "id": "072d9f79",
   "metadata": {},
   "outputs": [],
   "source": []
  }
 ],
 "metadata": {
  "kernelspec": {
   "display_name": "Python 3",
   "language": "python",
   "name": "python3"
  },
  "language_info": {
   "codemirror_mode": {
    "name": "ipython",
    "version": 3
   },
   "file_extension": ".py",
   "mimetype": "text/x-python",
   "name": "python",
   "nbconvert_exporter": "python",
   "pygments_lexer": "ipython3",
   "version": "3.6.9"
  }
 },
 "nbformat": 4,
 "nbformat_minor": 5
}
