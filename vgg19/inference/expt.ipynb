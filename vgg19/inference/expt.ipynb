{
 "cells": [
  {
   "cell_type": "code",
   "execution_count": 1,
   "id": "occupational-pickup",
   "metadata": {},
   "outputs": [
    {
     "name": "stdout",
     "output_type": "stream",
     "text": [
      "Files already downloaded and verified\n",
      "Files already downloaded and verified\n",
      "cuda\n",
      "tensor([1, 6, 4, 0, 2, 6, 1, 2, 7, 6, 0, 4, 7, 4, 9, 0, 6, 4, 5, 7, 1, 4, 3, 0,\n",
      "        6, 5, 3, 8, 6, 6, 4, 2, 4, 3, 2, 8, 7, 2, 9, 1], device='cuda:0')\n"
     ]
    },
    {
     "data": {
      "text/plain": [
       "<matplotlib.image.AxesImage at 0x7f6763228dd8>"
      ]
     },
     "execution_count": 1,
     "metadata": {},
     "output_type": "execute_result"
    },
    {
     "data": {
      "image/png": "[encoded data removed]",
      "text/plain": [
       "<Figure size 432x288 with 1 Axes>"
      ]
     },
     "metadata": {
      "needs_background": "light"
     },
     "output_type": "display_data"
    }
   ],
   "source": [
    "import torch\n",
    "import torch.nn as nn\n",
    "import torch.optim as optim\n",
    "from torchvision import transforms, datasets\n",
    "from torch.utils.data import DataLoader\n",
    "import numpy as np\n",
    "import sys\n",
    "sys.path.append('/home/hrushikesh/')\n",
    "from torch_functions import *\n",
    "import foolbox as fb\n",
    "import matplotlib.pyplot as plt\n",
    "\n",
    "batch_size = 40\n",
    "\n",
    "cifar_train = datasets.CIFAR10(\"/home/hrushikesh/torch/data\", train=True, download=True, transform=transforms.ToTensor())\n",
    "cifar_test = datasets.CIFAR10(\"/home/hrushikesh/torch/data\", train=False, download=True, transform=transforms.ToTensor())\n",
    "\n",
    "train_loader = DataLoader(cifar_train, batch_size = batch_size, shuffle=True)\n",
    "test_loader = DataLoader(cifar_test, batch_size = batch_size, shuffle=True)\n",
    "\n",
    "device = torch.device(\"cuda\" if torch.cuda.is_available() else \"cpu\")\n",
    "#device = 'cpu'\n",
    "print(device)\n",
    "\n",
    "classes = ['aeroplane', 'automobile', 'bird', 'cat', 'deer', 'dog', 'frog', 'horse', 'ship', 'truck']\n",
    "X, y = next(iter(test_loader))\n",
    "X, y = X.to(device), y.to(device)\n",
    "print(y)\n",
    "\n",
    "i = 30\n",
    "\n",
    "plt.imshow(X[i].cpu().numpy().transpose(1, 2, 0))\n"
   ]
  },
  {
   "cell_type": "code",
   "execution_count": 8,
   "id": "preliminary-seller",
   "metadata": {},
   "outputs": [
    {
     "name": "stdout",
     "output_type": "stream",
     "text": [
      "tensor([-0.9459, -1.0679,  0.4567,  0.3921,  2.1038, -0.1350,  0.7032,  0.2324,\n",
      "        -0.7594, -1.0924], device='cuda:0', grad_fn=<SelectBackward>)\n",
      "tensor([0.0229, 0.0203, 0.0932, 0.0873, 0.4837, 0.0516, 0.1192, 0.0744, 0.0276,\n",
      "        0.0198], device='cuda:0', grad_fn=<SoftmaxBackward>)\n",
      "deer\n"
     ]
    }
   ],
   "source": [
    "# Obtain the logits by loading the weights on the VGG model\n",
    "from vgg_inference import VGG\n",
    "inf_model = VGG(0.3).to(device)\n",
    "inf_model.load_state_dict(torch.load(\"/home/hrushikesh/robust/vgg19/batchout_many/n_3/model_reg_121.pt\"))\n",
    "inf_model.eval()\n",
    "pred = inf_model(X)\n",
    "\n",
    "print(pred[i])\n",
    "# Get softmax predicitons\n",
    "print(nn.Softmax(dim=0)(pred[i]))\n",
    "# Get the class label\n",
    "print(classes[int(pred[i].argmax())])"
   ]
  },
  {
   "cell_type": "code",
   "execution_count": 6,
   "id": "literary-graham",
   "metadata": {},
   "outputs": [
    {
     "name": "stdout",
     "output_type": "stream",
     "text": [
      "tensor([[-0.9459, -1.0679,  0.4567,  0.3920,  2.1038, -0.1350,  0.7032,  0.2324,\n",
      "         -0.7594, -1.0924]], device='cuda:0')\n",
      "tensor([[0.0229, 0.0203, 0.0932, 0.0873, 0.4837, 0.0516, 0.1192, 0.0744, 0.0276,\n",
      "         0.0198]], device='cuda:0')\n",
      "deer\n"
     ]
    }
   ],
   "source": [
    "# Get the logits by using foolbox\n",
    "import sys\n",
    "sys.path.append(\"/home/hrushikesh/robust/vgg19/standard\")\n",
    "from vgg_change import VGG as AGG\n",
    "preprocessing = dict(mean=[0.4914, 0.4822, 0.4465], std=[0.2470, 0.2435, 0.2616], axis=-3)\n",
    "model = AGG()\n",
    "model.eval()\n",
    "model.load_state_dict(torch.load(\"/home/hrushikesh/robust/vgg19/batchout_many/n_3/model_reg_121.pt\"))\n",
    "fmodel = fb.PyTorchModel(model, bounds=(0,1), preprocessing=preprocessing)\n",
    "image = X[i][None, :, :, :]\n",
    "model_pred = fmodel(image)\n",
    "print(model_pred)\n",
    "print(nn.Softmax(dim=1)(model_pred))\n",
    "print(classes[int(model_pred.argmax())])\n"
   ]
  },
  {
   "cell_type": "code",
   "execution_count": 9,
   "id": "finished-demand",
   "metadata": {},
   "outputs": [
    {
     "name": "stdout",
     "output_type": "stream",
     "text": [
      "tensor([[-0.9459, -1.0679,  0.4567,  0.3920,  2.1038, -0.1350,  0.7032,  0.2324,\n",
      "         -0.7594, -1.0924]], device='cuda:0')\n",
      "tensor([[0.0229, 0.0203, 0.0932, 0.0873, 0.4837, 0.0516, 0.1192, 0.0744, 0.0276,\n",
      "         0.0198]], device='cuda:0')\n",
      "deer\n"
     ]
    },
    {
     "data": {
      "image/png": "[encoded data removed]",
      "text/plain": [
       "<Figure size 432x288 with 1 Axes>"
      ]
     },
     "metadata": {
      "needs_background": "light"
     },
     "output_type": "display_data"
    }
   ],
   "source": [
    "import sys\n",
    "sys.path.append(\"/home/hrushikesh/robust/vgg19\")\n",
    "from vgg_change import VGG as UGG\n",
    "n_model = UGG()\n",
    "n_model.eval()\n",
    "n_model.load_state_dict(torch.load(\"/home/hrushikesh/robust/vgg19/batchout_many/n_3/model_reg_121.pt\"))\n",
    "n_fmodel = fb.PyTorchModel(n_model, bounds=(0,1), preprocessing=preprocessing)\n",
    "image = X[i][None, :, :, :]\n",
    "plt.imshow(X[i].cpu().numpy().transpose(1, 2, 0))\n",
    "model_pred = n_fmodel(image)\n",
    "print(model_pred)\n",
    "\n",
    "print(nn.Softmax(dim=1)(model_pred))\n",
    "\n",
    "print(classes[int(model_pred.argmax())])\n"
   ]
  },
  {
   "cell_type": "code",
   "execution_count": 21,
   "id": "wired-memorabilia",
   "metadata": {},
   "outputs": [
    {
     "name": "stdout",
     "output_type": "stream",
     "text": [
      "4\n",
      "tensor([[False]], device='cuda:0')\n",
      "1\n",
      "tensor([[-0.6133, -1.0886,  0.1053,  0.6928,  1.8068,  0.3104,  0.1947, -0.2193,\n",
      "         -0.6009, -0.9522]], device='cuda:0')\n",
      "tensor([[0.0376, 0.0234, 0.0772, 0.1389, 0.4231, 0.0947, 0.0844, 0.0558, 0.0381,\n",
      "         0.0268]], device='cuda:0')\n",
      "deer\n"
     ]
    },
    {
     "data": {
      "image/png": "[encoded data removed]",
      "text/plain": [
       "<Figure size 432x288 with 1 Axes>"
      ]
     },
     "metadata": {
      "needs_background": "light"
     },
     "output_type": "display_data"
    }
   ],
   "source": [
    "attack = fb.attacks.FGSM()\n",
    "\n",
    "print(int(y[i]))\n",
    "label = torch.Tensor([int(y[i])]).long().to(device) \n",
    "\n",
    "raw, clipped, is_adv = attack(fmodel, X[i][None, :, :, :], label, epsilons=[8/255])\n",
    "clipped_img = clipped[0][0][None, :, :, :]\n",
    "print(is_adv)\n",
    "print(len(clipped))\n",
    "plt.imshow(clipped_img[0].cpu().numpy().transpose(1, 2, 0))\n",
    "\n",
    "model_pred = fmodel(clipped_img)\n",
    "print(model_pred)\n",
    "print(nn.Softmax(dim=1)(model_pred))\n",
    "print(classes[int(model_pred.argmax())])"
   ]
  },
  {
   "cell_type": "code",
   "execution_count": 24,
   "id": "several-training",
   "metadata": {},
   "outputs": [
    {
     "name": "stdout",
     "output_type": "stream",
     "text": [
      "4\n",
      "tensor([[False]], device='cuda:0')\n",
      "1\n",
      "tensor([[-0.4215, -0.4831,  0.1953,  0.4000,  1.3788, -0.0412,  0.5523, -0.1762,\n",
      "         -0.3589, -0.8679]], device='cuda:0')\n",
      "tensor([[0.0521, 0.0489, 0.0964, 0.1184, 0.3150, 0.0761, 0.1378, 0.0665, 0.0554,\n",
      "         0.0333]], device='cuda:0')\n",
      "deer\n"
     ]
    },
    {
     "data": {
      "image/png": "[encoded data removed]",
      "text/plain": [
       "<Figure size 432x288 with 1 Axes>"
      ]
     },
     "metadata": {
      "needs_background": "light"
     },
     "output_type": "display_data"
    }
   ],
   "source": [
    "attack = fb.attacks.FGM()\n",
    "\n",
    "print(int(y[i]))\n",
    "label = torch.Tensor([int(y[i])]).long().to(device) \n",
    "\n",
    "raw, clipped, is_adv = attack(fmodel, X[i][None, :, :, :], label, epsilons=[0.5])\n",
    "clipped_img = clipped[0][0][None, :, :, :]\n",
    "print(is_adv)\n",
    "print(len(clipped))\n",
    "plt.imshow(clipped_img[0].cpu().numpy().transpose(1, 2, 0))\n",
    "\n",
    "model_pred = fmodel(clipped_img)\n",
    "print(model_pred)\n",
    "print(nn.Softmax(dim=1)(model_pred))\n",
    "print(classes[int(model_pred.argmax())])"
   ]
  },
  {
   "cell_type": "code",
   "execution_count": null,
   "id": "backed-affiliation",
   "metadata": {},
   "outputs": [],
   "source": []
  }
 ],
 "metadata": {
  "kernelspec": {
   "display_name": "Python 3",
   "language": "python",
   "name": "python3"
  },
  "language_info": {
   "codemirror_mode": {
    "name": "ipython",
    "version": 3
   },
   "file_extension": ".py",
   "mimetype": "text/x-python",
   "name": "python",
   "nbconvert_exporter": "python",
   "pygments_lexer": "ipython3",
   "version": "3.6.9"
  }
 },
 "nbformat": 4,
 "nbformat_minor": 5
}
